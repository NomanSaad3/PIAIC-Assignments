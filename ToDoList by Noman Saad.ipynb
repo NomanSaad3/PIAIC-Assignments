{
 "cells": [
  {
   "cell_type": "code",
   "execution_count": 4,
   "metadata": {},
   "outputs": [
    {
     "name": "stdout",
     "output_type": "stream",
     "text": [
      "Enter Task: Sleep\n",
      "Your remaining tasks are:  ['Eat', 'Study', 'University', 'Prayers']\n",
      "Your completed tasks are:  ['Sleep']\n",
      "Enter Task: Breakfast\n",
      "Task does not exit.\n",
      "Enter Task: Eat\n",
      "Your remaining tasks are:  ['Study', 'University', 'Prayers']\n",
      "Your completed tasks are:  ['Sleep', 'Eat']\n",
      "Enter Task: Study\n",
      "Your remaining tasks are:  ['University', 'Prayers']\n",
      "Your completed tasks are:  ['Sleep', 'Eat', 'Study']\n",
      "Enter Task: Prayers\n",
      "Your remaining tasks are:  ['University']\n",
      "Your completed tasks are:  ['Sleep', 'Eat', 'Study', 'Prayers']\n",
      "Enter Task: University\n",
      "Your remaining tasks are:  []\n",
      "Your completed tasks are:  ['Sleep', 'Eat', 'Study', 'Prayers', 'University']\n",
      "Your daily tasks are completed.\n"
     ]
    }
   ],
   "source": [
    "daily_tasks= [\"Eat\", \"Study\", \"Sleep\", \"University\", \"Prayers\"]\n",
    "tasks_completed= []\n",
    "\n",
    "def To_Do_List():\n",
    "    if len(daily_tasks) !=0:\n",
    "        current_task = input(\"Enter Task: \")\n",
    "        if current_task in daily_tasks:\n",
    "            index = daily_tasks.index(current_task)\n",
    "            poplist = daily_tasks.pop(index)\n",
    "            tasks_completed.append(current_task)\n",
    "            print(\"Your remaining tasks are: \",daily_tasks)\n",
    "            print(\"Your completed tasks are: \",tasks_completed)\n",
    "            To_Do_List()\n",
    "            \n",
    "        else:\n",
    "            print(\"Task does not exit.\")\n",
    "            To_Do_List()\n",
    "            \n",
    "    else:\n",
    "            print(\"Your daily tasks are completed.\")\n",
    "To_Do_List()"
   ]
  }
 ],
 "metadata": {
  "kernelspec": {
   "display_name": "Python 3",
   "language": "python",
   "name": "python3"
  },
  "language_info": {
   "codemirror_mode": {
    "name": "ipython",
    "version": 3
   },
   "file_extension": ".py",
   "mimetype": "text/x-python",
   "name": "python",
   "nbconvert_exporter": "python",
   "pygments_lexer": "ipython3",
   "version": "3.7.3"
  }
 },
 "nbformat": 4,
 "nbformat_minor": 2
}
