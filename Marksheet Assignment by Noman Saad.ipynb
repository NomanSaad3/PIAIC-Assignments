{
 "cells": [
  {
   "cell_type": "markdown",
   "metadata": {},
   "source": [
    "# Mark Sheet Assignment by Noman Saad"
   ]
  },
  {
   "cell_type": "code",
   "execution_count": 4,
   "metadata": {},
   "outputs": [
    {
     "name": "stdout",
     "output_type": "stream",
     "text": [
      "Marks of Physics: 96\n",
      "Marks of Computer: 98\n",
      "Marks of Chemistry: 94\n",
      "Marks of Mathematics: 100\n",
      "Marks of English: 87\n",
      "Obtained Marks:  475\n",
      "Total Marks:  500\n",
      "Percentage:  95.0 %\n",
      "Grade: A+\n"
     ]
    }
   ],
   "source": [
    "Physics=int(input(\"Marks of Physics: \"))\n",
    "Computer=int(input(\"Marks of Computer: \"))\n",
    "Chemistry=int(input(\"Marks of Chemistry: \"))\n",
    "Mathematics=int(input(\"Marks of Mathematics: \"))\n",
    "English=int(input(\"Marks of English: \"))\n",
    "Total_Marks=500\n",
    "Obtained_Marks = Physics+Computer+Chemistry+Mathematics+English\n",
    "Percentage=Obtained_Marks/Total_Marks*100\n",
    "if Physics<=100 and Computer<=100 and Chemistry<=100 and Mathematics<=100 and English<=100:\n",
    "    print (\"Obtained Marks: \",Obtained_Marks,)\n",
    "    print (\"Total Marks: \", Total_Marks,)\n",
    "    print (\"Percentage: \", Percentage, \"%\")\n",
    "if (Percentage>=90):\n",
    "    print (\"Grade: A+\")\n",
    "elif (Percentage>=80):\n",
    "    print (\"Grade: A\")\n",
    "elif (Percentage>=70):\n",
    "    print (\"Grade: B+\")\n",
    "elif (Percentage>=60):\n",
    "    print (\"Grade: B\")\n",
    "elif (\"Percentage>=50\"):\n",
    "    print (\"Grade: C\")\n",
    "else:\n",
    "    print (\"Grade: F\")"
   ]
  }
 ],
 "metadata": {
  "kernelspec": {
   "display_name": "Python 3",
   "language": "python",
   "name": "python3"
  }
 },
 "nbformat": 4,
 "nbformat_minor": 2
}
