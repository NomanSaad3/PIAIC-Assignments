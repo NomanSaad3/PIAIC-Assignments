{
 "cells": [
  {
   "cell_type": "markdown",
   "metadata": {},
   "source": [
    "# Name: \"Noman Saad Bin Jahangir\"\n"
   ]
  },
  {
   "cell_type": "markdown",
   "metadata": {},
   "source": [
    "# PIAIC Roll Number: AIC-024437"
   ]
  },
  {
   "cell_type": "markdown",
   "metadata": {},
   "source": [
    "# Teacher's Name: Sir Muhammad Ali, Sir Muhammad Hamza Khan, Sir Shahzad Ahsan, Sir Mohsin Hussain"
   ]
  },
  {
   "cell_type": "markdown",
   "metadata": {},
   "source": [
    "# Institute Name: Saylani Welfare (Head Office Campus)"
   ]
  },
  {
   "cell_type": "markdown",
   "metadata": {},
   "source": [
    "# Day / Timings: Sunday - 06:45pm to 09:45pm"
   ]
  },
  {
   "cell_type": "markdown",
   "metadata": {},
   "source": [
    "# ============================================================="
   ]
  },
  {
   "cell_type": "markdown",
   "metadata": {},
   "source": [
    "# 1. Calculate Area of a Circle"
   ]
  },
  {
   "cell_type": "markdown",
   "metadata": {},
   "source": [
    "#### Write a Python program which accepts the radius of a circle from the user and compute the area.\n",
    "###### Program Console Sample Output 1:\n",
    "###### Input Radius: 0.5\n",
    "###### Area of Circle with radius 0.5 is 0.7853981634"
   ]
  },
  {
   "cell_type": "code",
   "execution_count": 22,
   "metadata": {},
   "outputs": [
    {
     "name": "stdout",
     "output_type": "stream",
     "text": [
      "Radius: 0.5\n",
      "Area of Circle with radius 0.5 is 0.7853975.\n"
     ]
    }
   ],
   "source": [
    "Radius = float (input(\"Radius: \"))\n",
    "Area = 3.14159 * Radius ** 2\n",
    "print(\"Area of Circle with radius \" + str(Radius) + \" is \" + str(Area) + \".\")"
   ]
  },
  {
   "cell_type": "markdown",
   "metadata": {},
   "source": [
    "## 2. Check Number either positive, negative or zero"
   ]
  },
  {
   "cell_type": "markdown",
   "metadata": {},
   "source": [
    "#### Write a Python program to check if a number is positive, negative or zero\n",
    "###### Program Console Sample Output 1:\n",
    "###### Enter Number: -1\n",
    "##### Negative Number Entered\n",
    "###### Program Console Sample Output 2:\n",
    "##### Integer: 3\n",
    "##### Positive Number Entered\n",
    "###### Program Console Sample Output 3:\n",
    "##### Integer: 0\n",
    "###### Zero Entered"
   ]
  },
  {
   "cell_type": "code",
   "execution_count": 2,
   "metadata": {},
   "outputs": [
    {
     "name": "stdout",
     "output_type": "stream",
     "text": [
      "Enter Number: -1\n",
      "Negative Number Entered\n"
     ]
    }
   ],
   "source": [
    "Number = float (input(\"Enter Number: \"))\n",
    "if Number == 0:\n",
    "    print(\"Zero Entered\")\n",
    "elif Number > 0:\n",
    "    print(\"Positive Number Entered\")\n",
    "else:\n",
    "    print(\"Negative Number Entered\")"
   ]
  },
  {
   "cell_type": "code",
   "execution_count": 3,
   "metadata": {},
   "outputs": [
    {
     "name": "stdout",
     "output_type": "stream",
     "text": [
      "Enter Number: 3\n",
      "Positive Number Entered\n"
     ]
    }
   ],
   "source": [
    "Number = float (input(\"Enter Number: \"))\n",
    "if Number == 0:\n",
    "    print(\"Zero Entered\")\n",
    "elif Number > 0:\n",
    "    print(\"Positive Number Entered\")\n",
    "else:\n",
    "    print(\"Negative Number Entered\")"
   ]
  },
  {
   "cell_type": "code",
   "execution_count": 4,
   "metadata": {},
   "outputs": [
    {
     "name": "stdout",
     "output_type": "stream",
     "text": [
      "Enter Number: 0\n",
      "Zero Entered\n"
     ]
    }
   ],
   "source": [
    "Number = float (input(\"Enter Number: \"))\n",
    "if Number == 0:\n",
    "    print(\"Zero Entered\")\n",
    "elif Number > 0:\n",
    "    print(\"Positive Number Entered\")\n",
    "else:\n",
    "    print(\"Negative Number Entered\")"
   ]
  },
  {
   "cell_type": "markdown",
   "metadata": {},
   "source": [
    "## 3. Divisibility Check of two numbers"
   ]
  },
  {
   "cell_type": "markdown",
   "metadata": {},
   "source": [
    "#### Write a Python program to check whether a number is completely divisible by another number. Accept two integer values form the user\n",
    "##### Program Console Sample Output 1:\n",
    "###### Enter numerator: 4\n",
    "###### Enter Denominator: 2\n",
    "##### Number 4 is Completely divisible by 2\n",
    "###### Program Console Sample Output 2:\n",
    "##### Enter numerator: 7\n",
    "\n",
    "##### Enter Denominator: 4\n",
    "###### Number 7 is not Completely divisible by 4"
   ]
  },
  {
   "cell_type": "code",
   "execution_count": 23,
   "metadata": {},
   "outputs": [
    {
     "name": "stdout",
     "output_type": "stream",
     "text": [
      "Enter Numerator: 4\n",
      "Enter Denominator: 2\n",
      "Number 4 is completely divisible by 2.\n"
     ]
    }
   ],
   "source": [
    "a = int (input(\"Enter Numerator: \"))\n",
    "b = int (input(\"Enter Denominator: \"))\n",
    "if a % b == 0:\n",
    "    print (\"Number \" + str(a) + \" is completely divisible by \" + str(b) + \".\")\n",
    "        \n",
    "else:\n",
    "    print (\"Number \" + str(a) + \" is not completely divisible by \" + str(b) + \".\")"
   ]
  },
  {
   "cell_type": "code",
   "execution_count": 24,
   "metadata": {},
   "outputs": [
    {
     "name": "stdout",
     "output_type": "stream",
     "text": [
      "Enter Numerator: 7\n",
      "Enter Denominator: 4\n",
      "Number 7 is not completely divisible by 4.\n"
     ]
    }
   ],
   "source": [
    "a = int (input(\"Enter Numerator: \"))\n",
    "b = int (input(\"Enter Denominator: \"))\n",
    "if a % b == 0:\n",
    "    print (\"Number \" + str(a) + \" is completely divisible by \" + str(b) + \".\")\n",
    "        \n",
    "else:\n",
    "    print (\"Number \" + str(a) + \" is not completely divisible by \" + str(b) + \".\")"
   ]
  },
  {
   "cell_type": "markdown",
   "metadata": {},
   "source": [
    "## 4. Calculate Volume of a sphere"
   ]
  },
  {
   "cell_type": "markdown",
   "metadata": {},
   "source": [
    "##### Write a Python program to get the volume of a sphere, please take the radius as input from user"
   ]
  },
  {
   "cell_type": "markdown",
   "metadata": {},
   "source": [
    "##### Program Console Output:\n",
    "##### Enter Radius of Sphere: 1\n",
    "###### Volume of the Sphere with Radius 1 is 4.18"
   ]
  },
  {
   "cell_type": "code",
   "execution_count": 32,
   "metadata": {},
   "outputs": [
    {
     "name": "stdout",
     "output_type": "stream",
     "text": [
      "Enter Radius of Sphere: 1\n",
      "Volume of the Sphere with Radius 1 is 4.1866666666666665\n"
     ]
    }
   ],
   "source": [
    "Radius = int (input(\"Enter Radius of Sphere: \"))\n",
    "Volume = 4/3 * 3.14 * Radius\n",
    "print (\"Volume of the Sphere with Radius \" + str(Radius) + \" is \" + str(Volume))"
   ]
  },
  {
   "cell_type": "markdown",
   "metadata": {},
   "source": [
    "## 5. Copy string n times\n",
    "#### Write a Python program to get a string which is n (non-negative integer) copies of a given string.\n",
    "##### Program Console Output:\n",
    "##### Enter String: Hi\n",
    "###### How many copies of String you need: 4\n",
    "###### 4 Copies of Hi are HiHiHiHi"
   ]
  },
  {
   "cell_type": "code",
   "execution_count": 8,
   "metadata": {},
   "outputs": [
    {
     "name": "stdout",
     "output_type": "stream",
     "text": [
      "Enter String: Hi\n",
      "How many copies of String you need: 4\n",
      "HiHiHiHi\n"
     ]
    }
   ],
   "source": [
    "string = input (\"Enter String: \")\n",
    "n = input (\"How many copies of String you need: \")\n",
    "print(string * int(n))"
   ]
  },
  {
   "cell_type": "markdown",
   "metadata": {},
   "source": [
    "## 6. Check if number is Even or Odd\n",
    "### Write a Python program to find whether a given number (accept from the user) is even or odd, print out an appropriate message to the user\n",
    "#### Program Console Output 1:\n",
    "##### Enter Number: 4\n",
    "###### 4 is Even\n",
    "#### Program Console Output 2:\n",
    "##### Enter Number: 9\n",
    "###### 9 is Odd"
   ]
  },
  {
   "cell_type": "code",
   "execution_count": 16,
   "metadata": {},
   "outputs": [
    {
     "name": "stdout",
     "output_type": "stream",
     "text": [
      "Enter Number: 4\n",
      "4 is Even.\n"
     ]
    }
   ],
   "source": [
    "Number = int (input (\"Enter Number: \"))\n",
    "Answer = Number % 2\n",
    "if Answer <= 0:\n",
    "    print (str(Number) + \" is Even.\")\n",
    "else:\n",
    "    print (str(Number) + \" is Odd.\")"
   ]
  },
  {
   "cell_type": "code",
   "execution_count": 17,
   "metadata": {},
   "outputs": [
    {
     "name": "stdout",
     "output_type": "stream",
     "text": [
      "Enter Number: 9\n",
      "9 is Odd.\n"
     ]
    }
   ],
   "source": [
    "Number = int (input (\"Enter Number: \"))\n",
    "Answer = Number % 2\n",
    "if Answer <= 0:\n",
    "    print (str(Number) + \" is Even.\")\n",
    "else:\n",
    "    print (str(Number) + \" is Odd.\")"
   ]
  },
  {
   "cell_type": "markdown",
   "metadata": {},
   "source": [
    "## 7. Vowel Tester\n",
    "### Write a Python program to test whether a passed letter is a vowel or not\n",
    "#### Program Console Output 1:\n",
    "##### Enter a character: A\n",
    "###### Letter A is Vowel\n",
    "#### Program Console Output 2:\n",
    "##### Enter a character: e\n",
    "###### Letter e is Vowel\n",
    "#### Program Console Output 2:\n",
    "##### Enter a character: N\n",
    "###### Letter N is not Vowel"
   ]
  },
  {
   "cell_type": "code",
   "execution_count": 35,
   "metadata": {},
   "outputs": [
    {
     "name": "stdout",
     "output_type": "stream",
     "text": [
      "Enter a character: A\n",
      "Letter A is Vowel.\n"
     ]
    }
   ],
   "source": [
    "tester = input(\"Enter a character: \")\n",
    "\n",
    "if (tester == 'A' or tester == 'a' or tester == 'E' or tester == 'e' or tester == 'I'\n",
    " or tester == 'i' or tester == 'O' or tester == 'o' or tester == 'U' or tester == 'u'):\n",
    "    print(\"Letter \" + str(tester) + \" is Vowel.\")\n",
    "else:\n",
    "    print(\"Letter \" + str(tester) + \" is not Vowel.\")"
   ]
  },
  {
   "cell_type": "code",
   "execution_count": 36,
   "metadata": {},
   "outputs": [
    {
     "name": "stdout",
     "output_type": "stream",
     "text": [
      "Enter a character: e\n",
      "Letter e is Vowel.\n"
     ]
    }
   ],
   "source": [
    "tester = input(\"Enter a character: \")\n",
    "\n",
    "if (tester == 'A' or tester == 'a' or tester == 'E' or tester == 'e' or tester == 'I'\n",
    " or tester == 'i' or tester == 'O' or tester == 'o' or tester == 'U' or tester == 'u'):\n",
    "    print(\"Letter \" + str(tester) + \" is Vowel.\")\n",
    "else:\n",
    "    print(\"Letter \" + str(tester) + \" is not Vowel.\")"
   ]
  },
  {
   "cell_type": "code",
   "execution_count": 37,
   "metadata": {},
   "outputs": [
    {
     "name": "stdout",
     "output_type": "stream",
     "text": [
      "Enter a character: N\n",
      "Letter N is not Vowel.\n"
     ]
    }
   ],
   "source": [
    "tester = input(\"Enter a character: \")\n",
    "\n",
    "if (tester == 'A' or tester == 'a' or tester == 'E' or tester == 'e' or tester == 'I'\n",
    " or tester == 'i' or tester == 'O' or tester == 'o' or tester == 'U' or tester == 'u'):\n",
    "    print(\"Letter \" + str(tester) + \" is Vowel.\")\n",
    "else:\n",
    "    print(\"Letter \" + str(tester) + \" is not Vowel.\")"
   ]
  },
  {
   "cell_type": "markdown",
   "metadata": {},
   "source": [
    "## 8. Triangle area\n",
    "### Write a Python program that will accept the base and height of a triangle and compute the area\n",
    "###### Reference:\n",
    "https://www.mathgoodies.com/lessons/vol1/area_triangle"
   ]
  },
  {
   "cell_type": "code",
   "execution_count": 50,
   "metadata": {},
   "outputs": [
    {
     "name": "stdout",
     "output_type": "stream",
     "text": [
      "Enter Base: 4\n",
      "Enter Height: 2\n",
      "Area of a Triangle is: 4.0\n"
     ]
    }
   ],
   "source": [
    "Base = int (input(\"Enter Base: \"))\n",
    "Height = int (input(\"Enter Height: \"))\n",
    "Triangle_Area = Base * Height / 2\n",
    "print (\"Area of a Triangle is: \" + str(Triangle_Area))"
   ]
  },
  {
   "cell_type": "code",
   "execution_count": 51,
   "metadata": {},
   "outputs": [
    {
     "name": "stdout",
     "output_type": "stream",
     "text": [
      "Enter Base: 16\n",
      "Enter Height: 8\n",
      "Area of a Triangle is: 64.0\n"
     ]
    }
   ],
   "source": [
    "Base = int (input(\"Enter Base: \"))\n",
    "Height = int (input(\"Enter Height: \"))\n",
    "Triangle_Area = Base * Height / 2\n",
    "print (\"Area of a Triangle is: \" + str(Triangle_Area))"
   ]
  },
  {
   "cell_type": "markdown",
   "metadata": {},
   "source": [
    "## 9. Calculate Interest\n",
    "### Write a Python program to compute the future value of a specified principal amount, rate of interest, and a number of years\n",
    "#### Program Console Sample 1:\n",
    "##### Please enter principal amount: 10000\n",
    "###### Please Enter Rate of interest in %: 0.1\n",
    "###### Enter number of years for investment: 5\n",
    "###### After 5 years your principal amount 10000 over an interest rate of 0.1 % will be 16105.1"
   ]
  },
  {
   "cell_type": "code",
   "execution_count": 1,
   "metadata": {},
   "outputs": [
    {
     "name": "stdout",
     "output_type": "stream",
     "text": [
      "Please, Enter Principal Amount: 10000\n",
      "Please, Enter Rate of Interest in %: 0.1\n",
      "Enter Number of Years for Investment: 5\n",
      "After 5 years your Principal Amount of 10000.0 over an Interest Rate of 0.1  % will be 16105.100000000006.\n"
     ]
    }
   ],
   "source": [
    "Principal_Amount = float (input(\"Please, Enter Principal Amount: \"))\n",
    "Interest_Rate = float (input(\"Please, Enter Rate of Interest in %: \"))\n",
    "Years = int (input(\"Enter Number of Years for Investment: \"))\n",
    "\n",
    "Interest =  Principal_Amount * ( 1 + Interest_Rate ) ** Years\n",
    "\n",
    "print (\"After \" + str(Years) + \" years your Principal Amount of \" + str(Principal_Amount) + \" over an Interest Rate of \" + str(Interest_Rate)+\"  % will be \" + str(Interest) + \".\")"
   ]
  },
  {
   "cell_type": "markdown",
   "metadata": {},
   "source": [
    "## 10. Euclidean distance\n",
    "### write a Python program to compute the distance between the points (x1, y1) and (x2, y2).\n",
    "#### Program Console Sample 1:\n",
    "###### Enter Co-ordinate for x1: 2\n",
    "###### Enter Co-ordinate for x2: 4\n",
    "###### Enter Co-ordinate for y1: 4\n",
    "###### Enter Co-ordinate for y2: 4\n",
    "###### Distance between points (2, 4) and (4, 4) is 2"
   ]
  },
  {
   "cell_type": "markdown",
   "metadata": {},
   "source": [
    "###### Reference:\n",
    "https://en.wikipedia.org/wiki/Euclidean_distance"
   ]
  },
  {
   "cell_type": "code",
   "execution_count": 8,
   "metadata": {},
   "outputs": [
    {
     "name": "stdout",
     "output_type": "stream",
     "text": [
      "Enter Co-Ordinate for x1 : 2\n",
      "Enter Co-Ordinate for x2 : 4\n",
      "Enter Co-Ordinate for y1 : 4\n",
      "Enter Co-Ordinate for y2 : 4\n",
      "Distance between points (2,4) and (4,4) is 2 \n"
     ]
    }
   ],
   "source": [
    "import math\n",
    "x1 = int(input(\"Enter Co-Ordinate for x1 : \"))\n",
    "x2 = int(input(\"Enter Co-Ordinate for x2 : \"))\n",
    "y1 = int(input(\"Enter Co-Ordinate for y1 : \"))\n",
    "y2 = int(input(\"Enter Co-Ordinate for y2 : \"))\n",
    "\n",
    "Distance = ( (x2 - x1)**2 ) + ( (y2 - y1)**2 )\n",
    "Distance = math.sqrt(Distance)\n",
    "\n",
    "print(\"Distance between points (%d,%d) and (%d,%d) is %d \" %(x1,y1,x2,y2,Distance))"
   ]
  },
  {
   "cell_type": "markdown",
   "metadata": {},
   "source": [
    "## 11. Feet to Centimeter Converter\n",
    "### Write a Python program to convert height in feet to centimetres.\n",
    "##### Program Console Sample 1:\n",
    "###### Enter Height in Feet: 5\n",
    "###### There are 152.4 Cm in 5 ft\n",
    "###### Reference:\n",
    "https://www.rapidtables.com/convert/length/feet-to-cm.html"
   ]
  },
  {
   "cell_type": "code",
   "execution_count": 3,
   "metadata": {},
   "outputs": [
    {
     "name": "stdout",
     "output_type": "stream",
     "text": [
      "Enter Height in Feets: 5\n",
      "There are 152.4 Cm in 5 Ft.\n"
     ]
    }
   ],
   "source": [
    "Feets = int (input(\"Enter Height in Feets: \"))\n",
    "Centimetres = 30.48 * Feets\n",
    "print (\"There are \" + str(Centimetres) + \" Cm in \" + str(Feets) + \" Ft.\")"
   ]
  },
  {
   "cell_type": "markdown",
   "metadata": {},
   "source": [
    "## 12. BMI Calculator\n",
    "### Write a Python program to calculate body mass index\n",
    "##### Program Console Sample 1:\n",
    "###### Enter Height in Cm: 180\n",
    "###### Enter Weight in Kg: 75\n",
    "###### Your BMI is 23.15"
   ]
  },
  {
   "cell_type": "code",
   "execution_count": 9,
   "metadata": {},
   "outputs": [
    {
     "name": "stdout",
     "output_type": "stream",
     "text": [
      "Enter Height in Cm: 180\n",
      "Enter Weight in Kg: 75\n",
      "Your BMI is 23.148148148148145.\n"
     ]
    }
   ],
   "source": [
    "Height = float (input(\"Enter Height in Cm: \"))\n",
    "Weight = float (input(\"Enter Weight in Kg: \"))\n",
    "Height /= 100\n",
    "\n",
    "BMI = Weight / (Height) ** 2\n",
    "print (\"Your BMI is \" + str(BMI)+\".\")"
   ]
  },
  {
   "cell_type": "markdown",
   "metadata": {},
   "source": [
    "## 13. Sum of n Positive Integers\n",
    "### Write a python program to sum of the first n positive integers\n",
    "#### Program Console Sample 1:\n",
    "###### Enter value of n: 5\n",
    "###### Sum of n Positive integers till 5 is 15"
   ]
  },
  {
   "cell_type": "code",
   "execution_count": 10,
   "metadata": {},
   "outputs": [
    {
     "name": "stdout",
     "output_type": "stream",
     "text": [
      "Enter value of n: 5\n",
      "Sum of n positive integers till 5 is 15.0.\n"
     ]
    }
   ],
   "source": [
    "N = int (input(\"Enter value of n: \"))\n",
    "Sum = (N * (N + 1)) /2\n",
    "print (\"Sum of n positive integers till \"+str(N)+\" is \"+str(Sum)+\".\")"
   ]
  },
  {
   "cell_type": "markdown",
   "metadata": {},
   "source": [
    "## 14. Digits Sum of a Number\n",
    "### Write a Python program to calculate the sum of the digits in an integer\n",
    "#### Program Console Sample 1:\n",
    "##### Enter a number: 15\n",
    "###### Sum of 1 + 5 is 6\n",
    "#### Program Console Sample 2:\n",
    "##### Enter a number: 1234\n",
    "###### Sum of 1 + 2 + 3 + 4 is 10"
   ]
  },
  {
   "cell_type": "code",
   "execution_count": 12,
   "metadata": {},
   "outputs": [
    {
     "name": "stdout",
     "output_type": "stream",
     "text": [
      "Enter a number: 15\n",
      "Sum of 15 is 6\n"
     ]
    }
   ],
   "source": [
    "Number = int(input(\"Enter a number: \"))\n",
    "Number_1 = Number // 1000\n",
    "Number_2 = (Number - Number_1 * 1000) // 100\n",
    "Number_3 = (Number - Number_1 * 1000 - Number_2 * 100) // 10\n",
    "Number_4 = Number - Number_1 * 1000 - Number_2 * 100 - Number_3 * 10\n",
    "\n",
    "print(\"Sum of \"+str(Number)+\" is\", Number_1 + Number_2 + Number_3 + Number_4)"
   ]
  },
  {
   "cell_type": "code",
   "execution_count": 13,
   "metadata": {},
   "outputs": [
    {
     "name": "stdout",
     "output_type": "stream",
     "text": [
      "Enter a number: 1234\n",
      "Sum of 1234 is 10\n"
     ]
    }
   ],
   "source": [
    "Number = int(input(\"Enter a number: \"))\n",
    "Number_1 = Number // 1000\n",
    "Number_2 = (Number - Number_1 * 1000) // 100\n",
    "Number_3 = (Number - Number_1 * 1000 - Number_2 * 100) // 10\n",
    "Number_4 = Number - Number_1 * 1000 - Number_2 * 100 - Number_3 * 10\n",
    "\n",
    "print(\"Sum of \"+str(Number)+\" is\", Number_1 + Number_2 + Number_3 + Number_4)"
   ]
  }
 ],
 "metadata": {
  "kernelspec": {
   "display_name": "Python 3",
   "language": "python",
   "name": "python3"
  },
  "language_info": {
   "codemirror_mode": {
    "name": "ipython",
    "version": 3
   },
   "file_extension": ".py",
   "mimetype": "text/x-python",
   "name": "python",
   "nbconvert_exporter": "python",
   "pygments_lexer": "ipython3",
   "version": "3.7.3"
  }
 },
 "nbformat": 4,
 "nbformat_minor": 2
}
